{
 "cells": [
  {
   "cell_type": "markdown",
   "id": "b6b1af95",
   "metadata": {},
   "source": [
    "# Data Cleaning\n",
    "The data we have scraped from the website is still not clean and can be used for analysis. So we need to clean the data first so the data becomes proper for analysis."
   ]
  },
  {
   "cell_type": "code",
   "execution_count": 22,
   "id": "dca2ce96",
   "metadata": {},
   "outputs": [],
   "source": [
    "#Load data manipulation package\n",
    "\n",
    "import pandas as pd"
   ]
  },
  {
   "cell_type": "code",
   "execution_count": 23,
   "id": "d308b791",
   "metadata": {
    "scrolled": true
   },
   "outputs": [],
   "source": [
    "data = pd.read_csv(\"data/BA_reviews.csv\", index_col = 0)"
   ]
  },
  {
   "cell_type": "code",
   "execution_count": 24,
   "id": "20d0a1d8",
   "metadata": {
    "scrolled": true
   },
   "outputs": [
    {
     "data": {
      "text/html": [
       "<div>\n",
       "<style scoped>\n",
       "    .dataframe tbody tr th:only-of-type {\n",
       "        vertical-align: middle;\n",
       "    }\n",
       "\n",
       "    .dataframe tbody tr th {\n",
       "        vertical-align: top;\n",
       "    }\n",
       "\n",
       "    .dataframe thead th {\n",
       "        text-align: right;\n",
       "    }\n",
       "</style>\n",
       "<table border=\"1\" class=\"dataframe\">\n",
       "  <thead>\n",
       "    <tr style=\"text-align: right;\">\n",
       "      <th></th>\n",
       "      <th>reviews</th>\n",
       "      <th>stars</th>\n",
       "      <th>date</th>\n",
       "      <th>country</th>\n",
       "    </tr>\n",
       "  </thead>\n",
       "  <tbody>\n",
       "    <tr>\n",
       "      <th>0</th>\n",
       "      <td>✅ Trip Verified |  British Airways absolutely ...</td>\n",
       "      <td>1</td>\n",
       "      <td>1st September 2023</td>\n",
       "      <td>United Kingdom</td>\n",
       "    </tr>\n",
       "    <tr>\n",
       "      <th>1</th>\n",
       "      <td>✅ Trip Verified |  My recent experience with B...</td>\n",
       "      <td>1</td>\n",
       "      <td>1st September 2023</td>\n",
       "      <td>United States</td>\n",
       "    </tr>\n",
       "    <tr>\n",
       "      <th>2</th>\n",
       "      <td>✅ Trip Verified |  This is to express our disp...</td>\n",
       "      <td>1</td>\n",
       "      <td>31st August 2023</td>\n",
       "      <td>United States</td>\n",
       "    </tr>\n",
       "    <tr>\n",
       "      <th>3</th>\n",
       "      <td>✅ Trip Verified |  I flew London to Malaga on ...</td>\n",
       "      <td>1</td>\n",
       "      <td>30th August 2023</td>\n",
       "      <td>United Kingdom</td>\n",
       "    </tr>\n",
       "    <tr>\n",
       "      <th>4</th>\n",
       "      <td>✅ Trip Verified |  I arrived at the airport ab...</td>\n",
       "      <td>1</td>\n",
       "      <td>30th August 2023</td>\n",
       "      <td>Germany</td>\n",
       "    </tr>\n",
       "  </tbody>\n",
       "</table>\n",
       "</div>"
      ],
      "text/plain": [
       "                                             reviews stars  \\\n",
       "0  ✅ Trip Verified |  British Airways absolutely ...     1   \n",
       "1  ✅ Trip Verified |  My recent experience with B...     1   \n",
       "2  ✅ Trip Verified |  This is to express our disp...     1   \n",
       "3  ✅ Trip Verified |  I flew London to Malaga on ...     1   \n",
       "4  ✅ Trip Verified |  I arrived at the airport ab...     1   \n",
       "\n",
       "                 date         country  \n",
       "0  1st September 2023  United Kingdom  \n",
       "1  1st September 2023   United States  \n",
       "2    31st August 2023   United States  \n",
       "3    30th August 2023  United Kingdom  \n",
       "4    30th August 2023         Germany  "
      ]
     },
     "execution_count": 24,
     "metadata": {},
     "output_type": "execute_result"
    }
   ],
   "source": [
    "data.head()"
   ]
  },
  {
   "cell_type": "markdown",
   "id": "d5e94e92",
   "metadata": {},
   "source": [
    "## Change Data Type Format"
   ]
  },
  {
   "cell_type": "code",
   "execution_count": 25,
   "id": "f55bdbfe",
   "metadata": {
    "scrolled": true
   },
   "outputs": [
    {
     "data": {
      "text/plain": [
       "reviews    object\n",
       "stars      object\n",
       "date       object\n",
       "country    object\n",
       "dtype: object"
      ]
     },
     "execution_count": 25,
     "metadata": {},
     "output_type": "execute_result"
    }
   ],
   "source": [
    "#Check data types\n",
    "data.dtypes"
   ]
  },
  {
   "cell_type": "markdown",
   "id": "220f977a",
   "metadata": {},
   "source": [
    "Changing the format according to the data type will be easier to read and analyze at the later stage."
   ]
  },
  {
   "cell_type": "code",
   "execution_count": 26,
   "id": "e07af8a6",
   "metadata": {},
   "outputs": [],
   "source": [
    "#Covert date to datetime format\n",
    "data.date = pd.to_datetime(data.date)"
   ]
  },
  {
   "cell_type": "code",
   "execution_count": 27,
   "id": "22565bee",
   "metadata": {
    "scrolled": false
   },
   "outputs": [
    {
     "data": {
      "text/html": [
       "<div>\n",
       "<style scoped>\n",
       "    .dataframe tbody tr th:only-of-type {\n",
       "        vertical-align: middle;\n",
       "    }\n",
       "\n",
       "    .dataframe tbody tr th {\n",
       "        vertical-align: top;\n",
       "    }\n",
       "\n",
       "    .dataframe thead th {\n",
       "        text-align: right;\n",
       "    }\n",
       "</style>\n",
       "<table border=\"1\" class=\"dataframe\">\n",
       "  <thead>\n",
       "    <tr style=\"text-align: right;\">\n",
       "      <th></th>\n",
       "      <th>reviews</th>\n",
       "      <th>stars</th>\n",
       "      <th>date</th>\n",
       "      <th>country</th>\n",
       "    </tr>\n",
       "  </thead>\n",
       "  <tbody>\n",
       "    <tr>\n",
       "      <th>0</th>\n",
       "      <td>✅ Trip Verified |  British Airways absolutely ...</td>\n",
       "      <td>1</td>\n",
       "      <td>2023-09-01</td>\n",
       "      <td>United Kingdom</td>\n",
       "    </tr>\n",
       "    <tr>\n",
       "      <th>1</th>\n",
       "      <td>✅ Trip Verified |  My recent experience with B...</td>\n",
       "      <td>1</td>\n",
       "      <td>2023-09-01</td>\n",
       "      <td>United States</td>\n",
       "    </tr>\n",
       "    <tr>\n",
       "      <th>2</th>\n",
       "      <td>✅ Trip Verified |  This is to express our disp...</td>\n",
       "      <td>1</td>\n",
       "      <td>2023-08-31</td>\n",
       "      <td>United States</td>\n",
       "    </tr>\n",
       "    <tr>\n",
       "      <th>3</th>\n",
       "      <td>✅ Trip Verified |  I flew London to Malaga on ...</td>\n",
       "      <td>1</td>\n",
       "      <td>2023-08-30</td>\n",
       "      <td>United Kingdom</td>\n",
       "    </tr>\n",
       "    <tr>\n",
       "      <th>4</th>\n",
       "      <td>✅ Trip Verified |  I arrived at the airport ab...</td>\n",
       "      <td>1</td>\n",
       "      <td>2023-08-30</td>\n",
       "      <td>Germany</td>\n",
       "    </tr>\n",
       "  </tbody>\n",
       "</table>\n",
       "</div>"
      ],
      "text/plain": [
       "                                             reviews stars       date  \\\n",
       "0  ✅ Trip Verified |  British Airways absolutely ...     1 2023-09-01   \n",
       "1  ✅ Trip Verified |  My recent experience with B...     1 2023-09-01   \n",
       "2  ✅ Trip Verified |  This is to express our disp...     1 2023-08-31   \n",
       "3  ✅ Trip Verified |  I flew London to Malaga on ...     1 2023-08-30   \n",
       "4  ✅ Trip Verified |  I arrived at the airport ab...     1 2023-08-30   \n",
       "\n",
       "          country  \n",
       "0  United Kingdom  \n",
       "1   United States  \n",
       "2   United States  \n",
       "3  United Kingdom  \n",
       "4         Germany  "
      ]
     },
     "execution_count": 27,
     "metadata": {},
     "output_type": "execute_result"
    }
   ],
   "source": [
    "data.head()"
   ]
  },
  {
   "cell_type": "markdown",
   "id": "bb93ae28",
   "metadata": {},
   "source": [
    "## Removing Null Values"
   ]
  },
  {
   "cell_type": "code",
   "execution_count": 28,
   "id": "943c7a88",
   "metadata": {
    "scrolled": true
   },
   "outputs": [
    {
     "data": {
      "text/plain": [
       "reviews    0\n",
       "stars      0\n",
       "date       0\n",
       "country    1\n",
       "dtype: int64"
      ]
     },
     "execution_count": 28,
     "metadata": {},
     "output_type": "execute_result"
    }
   ],
   "source": [
    "#Check data value\n",
    "data.isnull().sum()"
   ]
  },
  {
   "cell_type": "markdown",
   "id": "2e7eb2b2",
   "metadata": {},
   "source": [
    "The data seems have null value in it. The reviews, stars and date column already clean but the country column is not. The country column has 1 null value, it means in this column there are 1 data with no text. So we need to remove this null value data."
   ]
  },
  {
   "cell_type": "code",
   "execution_count": 29,
   "id": "bfe30759",
   "metadata": {},
   "outputs": [],
   "source": [
    "#Removing null value\n",
    "data = data.dropna()"
   ]
  },
  {
   "cell_type": "code",
   "execution_count": 30,
   "id": "5c0423f4",
   "metadata": {},
   "outputs": [
    {
     "data": {
      "text/plain": [
       "0"
      ]
     },
     "execution_count": 30,
     "metadata": {},
     "output_type": "execute_result"
    }
   ],
   "source": [
    "#Check data after removing value\n",
    "data.country.isnull().sum()"
   ]
  },
  {
   "cell_type": "markdown",
   "id": "a25c031b",
   "metadata": {},
   "source": [
    "## Removing None Values"
   ]
  },
  {
   "cell_type": "code",
   "execution_count": 31,
   "id": "01ed9485",
   "metadata": {
    "scrolled": true
   },
   "outputs": [
    {
     "data": {
      "text/plain": [
       "1       831\n",
       "2       419\n",
       "3       401\n",
       "8       364\n",
       "10      328\n",
       "7       312\n",
       "9       309\n",
       "4       252\n",
       "5       233\n",
       "6       183\n",
       "None      5\n",
       "Name: stars, dtype: int64"
      ]
     },
     "execution_count": 31,
     "metadata": {},
     "output_type": "execute_result"
    }
   ],
   "source": [
    "#Check data value\n",
    "data.stars.value_counts()"
   ]
  },
  {
   "cell_type": "markdown",
   "id": "c9249429",
   "metadata": {},
   "source": [
    "The data seems have none value in it. It is important to \n",
    "remove or filter out none values from the dataset as the raise the data quality issue for completeness and can skew further analysis results."
   ]
  },
  {
   "cell_type": "code",
   "execution_count": 32,
   "id": "41e73d0d",
   "metadata": {},
   "outputs": [],
   "source": [
    "#Removing none value\n",
    "data.drop(data[data['stars']=='None'].index, inplace=True)"
   ]
  },
  {
   "cell_type": "code",
   "execution_count": 33,
   "id": "e3e4a0ea",
   "metadata": {},
   "outputs": [
    {
     "data": {
      "text/plain": [
       "array(['1', '3', '8', '4', '7', '2', '10', '9', '6', '5'], dtype=object)"
      ]
     },
     "execution_count": 33,
     "metadata": {},
     "output_type": "execute_result"
    }
   ],
   "source": [
    "#Check data after removing value\n",
    "data.stars.unique()"
   ]
  },
  {
   "cell_type": "markdown",
   "id": "14a63786",
   "metadata": {},
   "source": [
    "## Create Column Verified Customers"
   ]
  },
  {
   "cell_type": "markdown",
   "id": "e3fb035f",
   "metadata": {},
   "source": [
    "Create a new column which mentions if the user is verified or not."
   ]
  },
  {
   "cell_type": "code",
   "execution_count": 34,
   "id": "be1640ed",
   "metadata": {},
   "outputs": [],
   "source": [
    "data['verified'] = data.reviews.str.contains(\"Trip Verified\")"
   ]
  },
  {
   "cell_type": "code",
   "execution_count": 35,
   "id": "41430e92",
   "metadata": {},
   "outputs": [
    {
     "data": {
      "text/plain": [
       "0        True\n",
       "1        True\n",
       "2        True\n",
       "3        True\n",
       "4        True\n",
       "        ...  \n",
       "3633    False\n",
       "3634    False\n",
       "3635    False\n",
       "3636    False\n",
       "3637    False\n",
       "Name: verified, Length: 3632, dtype: bool"
      ]
     },
     "execution_count": 35,
     "metadata": {},
     "output_type": "execute_result"
    }
   ],
   "source": [
    "data['verified']"
   ]
  },
  {
   "cell_type": "code",
   "execution_count": 36,
   "id": "2acb40b7",
   "metadata": {},
   "outputs": [
    {
     "data": {
      "text/html": [
       "<div>\n",
       "<style scoped>\n",
       "    .dataframe tbody tr th:only-of-type {\n",
       "        vertical-align: middle;\n",
       "    }\n",
       "\n",
       "    .dataframe tbody tr th {\n",
       "        vertical-align: top;\n",
       "    }\n",
       "\n",
       "    .dataframe thead th {\n",
       "        text-align: right;\n",
       "    }\n",
       "</style>\n",
       "<table border=\"1\" class=\"dataframe\">\n",
       "  <thead>\n",
       "    <tr style=\"text-align: right;\">\n",
       "      <th></th>\n",
       "      <th>reviews</th>\n",
       "      <th>stars</th>\n",
       "      <th>date</th>\n",
       "      <th>country</th>\n",
       "      <th>verified</th>\n",
       "    </tr>\n",
       "  </thead>\n",
       "  <tbody>\n",
       "    <tr>\n",
       "      <th>0</th>\n",
       "      <td>✅ Trip Verified |  British Airways absolutely ...</td>\n",
       "      <td>1</td>\n",
       "      <td>2023-09-01</td>\n",
       "      <td>United Kingdom</td>\n",
       "      <td>True</td>\n",
       "    </tr>\n",
       "    <tr>\n",
       "      <th>1</th>\n",
       "      <td>✅ Trip Verified |  My recent experience with B...</td>\n",
       "      <td>1</td>\n",
       "      <td>2023-09-01</td>\n",
       "      <td>United States</td>\n",
       "      <td>True</td>\n",
       "    </tr>\n",
       "    <tr>\n",
       "      <th>2</th>\n",
       "      <td>✅ Trip Verified |  This is to express our disp...</td>\n",
       "      <td>1</td>\n",
       "      <td>2023-08-31</td>\n",
       "      <td>United States</td>\n",
       "      <td>True</td>\n",
       "    </tr>\n",
       "    <tr>\n",
       "      <th>3</th>\n",
       "      <td>✅ Trip Verified |  I flew London to Malaga on ...</td>\n",
       "      <td>1</td>\n",
       "      <td>2023-08-30</td>\n",
       "      <td>United Kingdom</td>\n",
       "      <td>True</td>\n",
       "    </tr>\n",
       "    <tr>\n",
       "      <th>4</th>\n",
       "      <td>✅ Trip Verified |  I arrived at the airport ab...</td>\n",
       "      <td>1</td>\n",
       "      <td>2023-08-30</td>\n",
       "      <td>Germany</td>\n",
       "      <td>True</td>\n",
       "    </tr>\n",
       "  </tbody>\n",
       "</table>\n",
       "</div>"
      ],
      "text/plain": [
       "                                             reviews stars       date  \\\n",
       "0  ✅ Trip Verified |  British Airways absolutely ...     1 2023-09-01   \n",
       "1  ✅ Trip Verified |  My recent experience with B...     1 2023-09-01   \n",
       "2  ✅ Trip Verified |  This is to express our disp...     1 2023-08-31   \n",
       "3  ✅ Trip Verified |  I flew London to Malaga on ...     1 2023-08-30   \n",
       "4  ✅ Trip Verified |  I arrived at the airport ab...     1 2023-08-30   \n",
       "\n",
       "          country  verified  \n",
       "0  United Kingdom      True  \n",
       "1   United States      True  \n",
       "2   United States      True  \n",
       "3  United Kingdom      True  \n",
       "4         Germany      True  "
      ]
     },
     "execution_count": 36,
     "metadata": {},
     "output_type": "execute_result"
    }
   ],
   "source": [
    "data.head()"
   ]
  },
  {
   "cell_type": "markdown",
   "id": "40d9155f",
   "metadata": {},
   "source": [
    "## Cleaning Reviews Data"
   ]
  },
  {
   "cell_type": "code",
   "execution_count": 37,
   "id": "9c579cb6",
   "metadata": {},
   "outputs": [],
   "source": [
    "#Text processing libraries\n",
    "\n",
    "import nltk\n",
    "import re\n",
    "from nltk.stem import WordNetLemmatizer\n",
    "from nltk.corpus import stopwords"
   ]
  },
  {
   "cell_type": "markdown",
   "id": "f8db26ea",
   "metadata": {},
   "source": [
    "Stop words are a set of commonly used words in a language. Examples of stop words in English are “a”, “the”, “an”, “are” and etc. These are words that generally don’t contribute anything to the meaning of the text. By removing these words, we remove the low-level information from our text in order to give more focus to the important information."
   ]
  },
  {
   "cell_type": "code",
   "execution_count": 38,
   "id": "131bf890",
   "metadata": {},
   "outputs": [],
   "source": [
    "#Initialize WordNetLemmatizer and stopwords\n",
    "stop_words = set(stopwords.words('english'))\n",
    "lemma = WordNetLemmatizer()\n",
    "\n",
    "reviews_data = data.reviews.str.strip(\"✅ Trip Verified |\")\n",
    "\n",
    "#Create new list for cleaned data from reviews\n",
    "reviewstext = []\n",
    "\n",
    "for rev in reviews_data:\n",
    "    rev = re.sub('[^a-zA-Z]',' ', rev)\n",
    "    rev = rev.lower()\n",
    "    rev = rev.split()\n",
    "    rev = [lemma.lemmatize(word) for word in rev if word not in stop_words]\n",
    "    rev = \" \".join(rev)\n",
    "    reviewstext.append(rev)"
   ]
  },
  {
   "cell_type": "code",
   "execution_count": 39,
   "id": "a2b960c0",
   "metadata": {},
   "outputs": [],
   "source": [
    "# add the corpus(reviews cleaned column) to the dataset\n",
    "data['reviewstext'] = reviewstext"
   ]
  },
  {
   "cell_type": "code",
   "execution_count": 40,
   "id": "6df623c2",
   "metadata": {},
   "outputs": [
    {
     "data": {
      "text/html": [
       "<div>\n",
       "<style scoped>\n",
       "    .dataframe tbody tr th:only-of-type {\n",
       "        vertical-align: middle;\n",
       "    }\n",
       "\n",
       "    .dataframe tbody tr th {\n",
       "        vertical-align: top;\n",
       "    }\n",
       "\n",
       "    .dataframe thead th {\n",
       "        text-align: right;\n",
       "    }\n",
       "</style>\n",
       "<table border=\"1\" class=\"dataframe\">\n",
       "  <thead>\n",
       "    <tr style=\"text-align: right;\">\n",
       "      <th></th>\n",
       "      <th>reviews</th>\n",
       "      <th>stars</th>\n",
       "      <th>date</th>\n",
       "      <th>country</th>\n",
       "      <th>verified</th>\n",
       "      <th>reviewstext</th>\n",
       "    </tr>\n",
       "  </thead>\n",
       "  <tbody>\n",
       "    <tr>\n",
       "      <th>0</th>\n",
       "      <td>✅ Trip Verified |  British Airways absolutely ...</td>\n",
       "      <td>1</td>\n",
       "      <td>2023-09-01</td>\n",
       "      <td>United Kingdom</td>\n",
       "      <td>True</td>\n",
       "      <td>british airway absolutely care reserved seat c...</td>\n",
       "    </tr>\n",
       "    <tr>\n",
       "      <th>1</th>\n",
       "      <td>✅ Trip Verified |  My recent experience with B...</td>\n",
       "      <td>1</td>\n",
       "      <td>2023-09-01</td>\n",
       "      <td>United States</td>\n",
       "      <td>True</td>\n",
       "      <td>recent experience british airway horrendous ut...</td>\n",
       "    </tr>\n",
       "    <tr>\n",
       "      <th>2</th>\n",
       "      <td>✅ Trip Verified |  This is to express our disp...</td>\n",
       "      <td>1</td>\n",
       "      <td>2023-08-31</td>\n",
       "      <td>United States</td>\n",
       "      <td>True</td>\n",
       "      <td>express displeasure concern regarding flight i...</td>\n",
       "    </tr>\n",
       "    <tr>\n",
       "      <th>3</th>\n",
       "      <td>✅ Trip Verified |  I flew London to Malaga on ...</td>\n",
       "      <td>1</td>\n",
       "      <td>2023-08-30</td>\n",
       "      <td>United Kingdom</td>\n",
       "      <td>True</td>\n",
       "      <td>flew london malaga august club europe stood ar...</td>\n",
       "    </tr>\n",
       "    <tr>\n",
       "      <th>4</th>\n",
       "      <td>✅ Trip Verified |  I arrived at the airport ab...</td>\n",
       "      <td>1</td>\n",
       "      <td>2023-08-30</td>\n",
       "      <td>Germany</td>\n",
       "      <td>True</td>\n",
       "      <td>arrived airport hour takeoff time get checked ...</td>\n",
       "    </tr>\n",
       "  </tbody>\n",
       "</table>\n",
       "</div>"
      ],
      "text/plain": [
       "                                             reviews stars       date  \\\n",
       "0  ✅ Trip Verified |  British Airways absolutely ...     1 2023-09-01   \n",
       "1  ✅ Trip Verified |  My recent experience with B...     1 2023-09-01   \n",
       "2  ✅ Trip Verified |  This is to express our disp...     1 2023-08-31   \n",
       "3  ✅ Trip Verified |  I flew London to Malaga on ...     1 2023-08-30   \n",
       "4  ✅ Trip Verified |  I arrived at the airport ab...     1 2023-08-30   \n",
       "\n",
       "          country  verified                                        reviewstext  \n",
       "0  United Kingdom      True  british airway absolutely care reserved seat c...  \n",
       "1   United States      True  recent experience british airway horrendous ut...  \n",
       "2   United States      True  express displeasure concern regarding flight i...  \n",
       "3  United Kingdom      True  flew london malaga august club europe stood ar...  \n",
       "4         Germany      True  arrived airport hour takeoff time get checked ...  "
      ]
     },
     "execution_count": 40,
     "metadata": {},
     "output_type": "execute_result"
    }
   ],
   "source": [
    "data.head()"
   ]
  },
  {
   "cell_type": "code",
   "execution_count": 41,
   "id": "263b0d59",
   "metadata": {},
   "outputs": [
    {
     "data": {
      "text/plain": [
       "(3632, 6)"
      ]
     },
     "execution_count": 41,
     "metadata": {},
     "output_type": "execute_result"
    }
   ],
   "source": [
    "data.shape"
   ]
  },
  {
   "cell_type": "markdown",
   "id": "1cc9fcb9",
   "metadata": {},
   "source": [
    "## Resetting the Index"
   ]
  },
  {
   "cell_type": "code",
   "execution_count": 42,
   "id": "22523aab",
   "metadata": {},
   "outputs": [
    {
     "data": {
      "text/html": [
       "<div>\n",
       "<style scoped>\n",
       "    .dataframe tbody tr th:only-of-type {\n",
       "        vertical-align: middle;\n",
       "    }\n",
       "\n",
       "    .dataframe tbody tr th {\n",
       "        vertical-align: top;\n",
       "    }\n",
       "\n",
       "    .dataframe thead th {\n",
       "        text-align: right;\n",
       "    }\n",
       "</style>\n",
       "<table border=\"1\" class=\"dataframe\">\n",
       "  <thead>\n",
       "    <tr style=\"text-align: right;\">\n",
       "      <th></th>\n",
       "      <th>reviews</th>\n",
       "      <th>stars</th>\n",
       "      <th>date</th>\n",
       "      <th>country</th>\n",
       "      <th>verified</th>\n",
       "      <th>reviewstext</th>\n",
       "    </tr>\n",
       "  </thead>\n",
       "  <tbody>\n",
       "    <tr>\n",
       "      <th>0</th>\n",
       "      <td>✅ Trip Verified |  British Airways absolutely ...</td>\n",
       "      <td>1</td>\n",
       "      <td>2023-09-01</td>\n",
       "      <td>United Kingdom</td>\n",
       "      <td>True</td>\n",
       "      <td>british airway absolutely care reserved seat c...</td>\n",
       "    </tr>\n",
       "    <tr>\n",
       "      <th>1</th>\n",
       "      <td>✅ Trip Verified |  My recent experience with B...</td>\n",
       "      <td>1</td>\n",
       "      <td>2023-09-01</td>\n",
       "      <td>United States</td>\n",
       "      <td>True</td>\n",
       "      <td>recent experience british airway horrendous ut...</td>\n",
       "    </tr>\n",
       "    <tr>\n",
       "      <th>2</th>\n",
       "      <td>✅ Trip Verified |  This is to express our disp...</td>\n",
       "      <td>1</td>\n",
       "      <td>2023-08-31</td>\n",
       "      <td>United States</td>\n",
       "      <td>True</td>\n",
       "      <td>express displeasure concern regarding flight i...</td>\n",
       "    </tr>\n",
       "    <tr>\n",
       "      <th>3</th>\n",
       "      <td>✅ Trip Verified |  I flew London to Malaga on ...</td>\n",
       "      <td>1</td>\n",
       "      <td>2023-08-30</td>\n",
       "      <td>United Kingdom</td>\n",
       "      <td>True</td>\n",
       "      <td>flew london malaga august club europe stood ar...</td>\n",
       "    </tr>\n",
       "    <tr>\n",
       "      <th>4</th>\n",
       "      <td>✅ Trip Verified |  I arrived at the airport ab...</td>\n",
       "      <td>1</td>\n",
       "      <td>2023-08-30</td>\n",
       "      <td>Germany</td>\n",
       "      <td>True</td>\n",
       "      <td>arrived airport hour takeoff time get checked ...</td>\n",
       "    </tr>\n",
       "    <tr>\n",
       "      <th>...</th>\n",
       "      <td>...</td>\n",
       "      <td>...</td>\n",
       "      <td>...</td>\n",
       "      <td>...</td>\n",
       "      <td>...</td>\n",
       "      <td>...</td>\n",
       "    </tr>\n",
       "    <tr>\n",
       "      <th>3627</th>\n",
       "      <td>Flew LHR - VIE return operated by bmi but BA a...</td>\n",
       "      <td>10</td>\n",
       "      <td>2012-08-29</td>\n",
       "      <td>United Kingdom</td>\n",
       "      <td>False</td>\n",
       "      <td>flew lhr vie return operated bmi ba aircraft a...</td>\n",
       "    </tr>\n",
       "    <tr>\n",
       "      <th>3628</th>\n",
       "      <td>LHR to HAM. Purser addresses all club passenge...</td>\n",
       "      <td>9</td>\n",
       "      <td>2012-08-28</td>\n",
       "      <td>United Kingdom</td>\n",
       "      <td>False</td>\n",
       "      <td>lhr ham purser address club passenger name boa...</td>\n",
       "    </tr>\n",
       "    <tr>\n",
       "      <th>3629</th>\n",
       "      <td>My son who had worked for British Airways urge...</td>\n",
       "      <td>5</td>\n",
       "      <td>2011-10-12</td>\n",
       "      <td>United Kingdom</td>\n",
       "      <td>False</td>\n",
       "      <td>son worked british airway urged fly british ai...</td>\n",
       "    </tr>\n",
       "    <tr>\n",
       "      <th>3630</th>\n",
       "      <td>London City-New York JFK via Shannon on A318 b...</td>\n",
       "      <td>4</td>\n",
       "      <td>2011-10-11</td>\n",
       "      <td>United States</td>\n",
       "      <td>False</td>\n",
       "      <td>london city new york jfk via shannon really ni...</td>\n",
       "    </tr>\n",
       "    <tr>\n",
       "      <th>3631</th>\n",
       "      <td>SIN-LHR BA12 B747-436 First Class. Old aircraf...</td>\n",
       "      <td>4</td>\n",
       "      <td>2011-10-09</td>\n",
       "      <td>United Kingdom</td>\n",
       "      <td>False</td>\n",
       "      <td>sin lhr ba b first class old aircraft seat pri...</td>\n",
       "    </tr>\n",
       "  </tbody>\n",
       "</table>\n",
       "<p>3632 rows × 6 columns</p>\n",
       "</div>"
      ],
      "text/plain": [
       "                                                reviews stars       date  \\\n",
       "0     ✅ Trip Verified |  British Airways absolutely ...     1 2023-09-01   \n",
       "1     ✅ Trip Verified |  My recent experience with B...     1 2023-09-01   \n",
       "2     ✅ Trip Verified |  This is to express our disp...     1 2023-08-31   \n",
       "3     ✅ Trip Verified |  I flew London to Malaga on ...     1 2023-08-30   \n",
       "4     ✅ Trip Verified |  I arrived at the airport ab...     1 2023-08-30   \n",
       "...                                                 ...   ...        ...   \n",
       "3627  Flew LHR - VIE return operated by bmi but BA a...    10 2012-08-29   \n",
       "3628  LHR to HAM. Purser addresses all club passenge...     9 2012-08-28   \n",
       "3629  My son who had worked for British Airways urge...     5 2011-10-12   \n",
       "3630  London City-New York JFK via Shannon on A318 b...     4 2011-10-11   \n",
       "3631  SIN-LHR BA12 B747-436 First Class. Old aircraf...     4 2011-10-09   \n",
       "\n",
       "             country  verified  \\\n",
       "0     United Kingdom      True   \n",
       "1      United States      True   \n",
       "2      United States      True   \n",
       "3     United Kingdom      True   \n",
       "4            Germany      True   \n",
       "...              ...       ...   \n",
       "3627  United Kingdom     False   \n",
       "3628  United Kingdom     False   \n",
       "3629  United Kingdom     False   \n",
       "3630   United States     False   \n",
       "3631  United Kingdom     False   \n",
       "\n",
       "                                            reviewstext  \n",
       "0     british airway absolutely care reserved seat c...  \n",
       "1     recent experience british airway horrendous ut...  \n",
       "2     express displeasure concern regarding flight i...  \n",
       "3     flew london malaga august club europe stood ar...  \n",
       "4     arrived airport hour takeoff time get checked ...  \n",
       "...                                                 ...  \n",
       "3627  flew lhr vie return operated bmi ba aircraft a...  \n",
       "3628  lhr ham purser address club passenger name boa...  \n",
       "3629  son worked british airway urged fly british ai...  \n",
       "3630  london city new york jfk via shannon really ni...  \n",
       "3631  sin lhr ba b first class old aircraft seat pri...  \n",
       "\n",
       "[3632 rows x 6 columns]"
      ]
     },
     "execution_count": 42,
     "metadata": {},
     "output_type": "execute_result"
    }
   ],
   "source": [
    "# Resetting the index while dropping the existing index\n",
    "data.reset_index(drop=True)"
   ]
  },
  {
   "cell_type": "markdown",
   "id": "a8bff6a7",
   "metadata": {},
   "source": [
    "## Export the Data into a CSV Format"
   ]
  },
  {
   "cell_type": "code",
   "execution_count": 43,
   "id": "dfd96521",
   "metadata": {},
   "outputs": [],
   "source": [
    "data.to_csv(\"data/BA_reviews_cleaned.csv\")"
   ]
  },
  {
   "cell_type": "code",
   "execution_count": null,
   "id": "7e0984fa",
   "metadata": {},
   "outputs": [],
   "source": []
  }
 ],
 "metadata": {
  "kernelspec": {
   "display_name": "Python 3 (ipykernel)",
   "language": "python",
   "name": "python3"
  },
  "language_info": {
   "codemirror_mode": {
    "name": "ipython",
    "version": 3
   },
   "file_extension": ".py",
   "mimetype": "text/x-python",
   "name": "python",
   "nbconvert_exporter": "python",
   "pygments_lexer": "ipython3",
   "version": "3.9.12"
  }
 },
 "nbformat": 4,
 "nbformat_minor": 5
}
